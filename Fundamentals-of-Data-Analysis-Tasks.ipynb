{
 "cells": [
  {
   "cell_type": "markdown",
   "metadata": {},
   "source": [
    "## FODA-TASKS-2020 ##"
   ]
  },
  {
   "cell_type": "markdown",
   "metadata": {},
   "source": [
    "## Introduction "
   ]
  },
  {
   "cell_type": "markdown",
   "metadata": {},
   "source": [
    "This document details a four task assignment, assigned as part of my studies for module - Fundamentals of Data Analysis. Each task, assigned individually, throughout the term of semester two."
   ]
  },
  {
   "cell_type": "markdown",
   "metadata": {},
   "source": [
    "## Task One ##\n",
    "\n",
    "- Write a Python function called counts that takes a list as input and returns a dictionary of unique items in the list as keys and the number of times each item appears as values."
   ]
  },
  {
   "cell_type": "markdown",
   "metadata": {},
   "source": [
    "   References:\n",
    "           \n",
    "   [1] If statements/for statements;python https://docs.python.org/3.8/tutorial/controlflow.html#if-statements\n",
    "\n",
    "   [2] Built in functions; python https://docs.python.org/3/library/functions.html\n",
    "           \n",
    "   [3] Accept list input from user; Pynative https://pynative.com/python-accept-list-input-from-user/"
   ]
  },
  {
   "cell_type": "markdown",
   "metadata": {},
   "source": [
    "<br>"
   ]
  },
  {
   "cell_type": "code",
   "execution_count": 1,
   "metadata": {},
   "outputs": [
    {
     "name": "stdout",
     "output_type": "stream",
     "text": [
      "Please input a string of alpha numerical characters, using a space to separate: 157577TRR1\n"
     ]
    }
   ],
   "source": [
    "# creating a variable for user input \n",
    "input_string = input(\"Please input a string of alpha numerical characters, using a space to separate: \") "
   ]
  },
  {
   "cell_type": "code",
   "execution_count": 2,
   "metadata": {},
   "outputs": [
    {
     "name": "stdout",
     "output_type": "stream",
     "text": [
      "You have input the following:  ['157577TRR1']\n"
     ]
    }
   ],
   "source": [
    "# converting string to a list \n",
    "x = input_string.split()\n",
    "print (\"You have input the following: \", (x))"
   ]
  },
  {
   "cell_type": "markdown",
   "metadata": {},
   "source": [
    "As you can see above the input string now displays as a list. However the string has returned as one Character rather then separate characters. Why? I did not separate each character by using space, as repuested at input stage. Printing the string directly after the users input is useful for if/when the user forgets to do so. Lets try again "
   ]
  },
  {
   "cell_type": "code",
   "execution_count": 3,
   "metadata": {},
   "outputs": [
    {
     "name": "stdout",
     "output_type": "stream",
     "text": [
      "Please input a string of alpha numerical characters, using a space to separate: 1 5 7 5 7 7 T R R 1\n"
     ]
    }
   ],
   "source": [
    "input_string = input(\"Please input a string of alpha numerical characters, using a space to separate: \") "
   ]
  },
  {
   "cell_type": "markdown",
   "metadata": {},
   "source": [
    "Now you can clearly see there is more than one character within the list. Note the input string accepts alpha numerical, single or double characters. "
   ]
  },
  {
   "cell_type": "code",
   "execution_count": 4,
   "metadata": {},
   "outputs": [
    {
     "name": "stdout",
     "output_type": "stream",
     "text": [
      "You have input the following:  ['1', '5', '7', '5', '7', '7', 'T', 'R', 'R', '1']\n"
     ]
    }
   ],
   "source": [
    "x = input_string.split()\n",
    "print (\"You have input the following: \", (x))"
   ]
  },
  {
   "cell_type": "markdown",
   "metadata": {},
   "source": [
    "The 'for loop' and 'if statement' i have used to build the function which i have not included within the description of the task, the objective; to create a function without using imported libraries, only the built-in-functions of python.  "
   ]
  },
  {
   "cell_type": "code",
   "execution_count": 5,
   "metadata": {},
   "outputs": [],
   "source": [
    "# defining a function called 'counts'\n",
    "def counts (x):\n",
    "    d = {} #creating a dictionary \n",
    "    for i in (x): #looping around each character\n",
    "         # Argument - if the current character in d equals d, then count same, else count as 1.\n",
    "        if i in d: \n",
    "            d[i] = d[i] + 1\n",
    "        else:\n",
    "            d[i] = 1 \n",
    "    return(d) # returning the value of d"
   ]
  },
  {
   "cell_type": "code",
   "execution_count": 6,
   "metadata": {},
   "outputs": [
    {
     "name": "stdout",
     "output_type": "stream",
     "text": [
      "Result:  {'1': 2, '5': 2, '7': 3, 'T': 1, 'R': 2}\n"
     ]
    }
   ],
   "source": [
    "# End Result\n",
    "print ( \"Result: \", counts (x))"
   ]
  },
  {
   "cell_type": "markdown",
   "metadata": {},
   "source": [
    "End "
   ]
  }
 ],
 "metadata": {
  "kernelspec": {
   "display_name": "Python 3",
   "language": "python",
   "name": "python3"
  },
  "language_info": {
   "codemirror_mode": {
    "name": "ipython",
    "version": 3
   },
   "file_extension": ".py",
   "mimetype": "text/x-python",
   "name": "python",
   "nbconvert_exporter": "python",
   "pygments_lexer": "ipython3",
   "version": "3.8.3"
  }
 },
 "nbformat": 4,
 "nbformat_minor": 4
}
